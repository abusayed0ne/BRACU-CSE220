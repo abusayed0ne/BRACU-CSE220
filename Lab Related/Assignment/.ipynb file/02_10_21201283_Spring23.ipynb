{
  "cells": [
    {
      "cell_type": "code",
      "execution_count": 8,
      "metadata": {
        "colab": {
          "base_uri": "https://localhost:8080/"
        },
        "id": "NFw6sohh0k3s",
        "outputId": "19940124-9ba9-404d-de02-7786f50bc15d"
      },
      "outputs": [
        {
          "output_type": "stream",
          "name": "stdout",
          "text": [
            "giRtfel2th\n",
            "rightLeft2\n",
            "Your inpur is valid. Press any key and then enter to continue!!!\n",
            "Top Board Start Character R\n",
            "Top Board Start Index 2\n",
            "Bottom Board Start Character L\n",
            "Bottom Board Start Index 5\n",
            "Enter any key and then enter to continue!!!f\n",
            "Right2left\n",
            "Left2right\n",
            "Enter any key and then enter to continue!!!ff\n",
            "ight2leftR\n",
            "eft2rightL\n",
            "Enter any key and then enter to continue!!!g\n",
            "ght2leftRi\n",
            "ft2rightLe\n",
            "Enter any key and then enter to continue!!!q\n",
            "Top Board Start Character h\n",
            "Top Board Start Index 9\n",
            "Bottom Board Start Character t\n",
            "Bottom Board Start Index 8\n"
          ]
        }
      ],
      "source": [
        "#2D Billboard Problem\n",
        "input1=input()\n",
        "input2=input()\n",
        "if len(input1)>10 or len(input2)>10:\n",
        "    print(\"Invalid Input Size\")\n",
        "else:\n",
        "    print(\"Your inpur is valid. Press any key and then enter to continue!!!\")\n",
        "    x=[[0]*len(input1),[0]*len(input2)]\n",
        "    for i in range(len(input1)):\n",
        "        x[0][i]=input1[i]\n",
        "        if 65<=ord(input1[i])<=90:\n",
        "            ind=i\n",
        "    for i in range(len(input2)):\n",
        "        x[1][i]=input2[i]\n",
        "        if 65<=ord(input2[i])<=90:\n",
        "            pak=i\n",
        "    print(\"Top Board Start Character\", x[0][ind])\n",
        "    print(\"Top Board Start Index\",ind)\n",
        "    print(\"Bottom Board Start Character\", x[1][pak])\n",
        "    print(\"Bottom Board Start Index\",pak)\n",
        "    while True:\n",
        "        t=input(\"Enter any key and then enter to continue!!!\")       \n",
        "        l1=len(input1)\n",
        "        l2=len(input2)\n",
        "        if t==\"Q\" or t=='q':\n",
        "            print(\"Top Board Start Character\", x[0][ind])\n",
        "            print(\"Top Board Start Index\",ind)\n",
        "            print(\"Bottom Board Start Character\", x[1][pak])\n",
        "            print(\"Bottom Board Start Index\",pak)\n",
        "            break\n",
        "        else:\n",
        "            for j in range(l1):\n",
        "                print(x[0][ind],end='')\n",
        "                ind-=1\n",
        "                if ind<0:\n",
        "                    ind=len(input1)-1\n",
        "            print()\n",
        "            ind-=1\n",
        "            if ind<0:\n",
        "                ind=len(input1)-1\n",
        "            for i in range(l2):\n",
        "                print(x[1][pak],end='')\n",
        "                pak=(pak+1)%len(input2)\n",
        "            print()\n",
        "            pak=(pak+1)%len(input2)\n",
        "\n",
        "\n",
        "#giRtfel2th\n",
        "#rightLeft2"
      ]
    },
    {
      "cell_type": "code",
      "execution_count": null,
      "metadata": {
        "id": "cWAaEx6KrHgk"
      },
      "outputs": [],
      "source": []
    }
  ],
  "metadata": {
    "colab": {
      "provenance": []
    },
    "kernelspec": {
      "display_name": "Python 3",
      "name": "python3"
    },
    "language_info": {
      "name": "python"
    }
  },
  "nbformat": 4,
  "nbformat_minor": 0
}