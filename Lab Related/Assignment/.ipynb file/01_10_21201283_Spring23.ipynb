{
  "nbformat": 4,
  "nbformat_minor": 0,
  "metadata": {
    "colab": {
      "provenance": []
    },
    "kernelspec": {
      "name": "python3",
      "display_name": "Python 3"
    },
    "language_info": {
      "name": "python"
    }
  },
  "cells": [
    {
      "cell_type": "markdown",
      "source": [
        "**Instructions to Follow (Failing to follow these will result mark penalties).**\n",
        "\n",
        "\n",
        "1.   You can not use any built-in function except len()\n",
        "2.   You can not use any other python collections except list (e.g: tuptle, dictionaries etc.)\n",
        "3. If you need to initialize a new array using python list, you must mention the fixed size during initialization. There might be two approach. However, initializing new array in this lab is not mandatory.\n",
        "\n",
        "  i. arr = [None] * 10 #Initializing an array length 10 with values None.\n",
        "\n",
        "  ii. arr = [10, 20, 30, 40] #Initializing an array length 4 with the values.\n",
        "\n",
        "\n",
        "\n",
        "\n"
      ],
      "metadata": {
        "id": "lJl5kEU9s6VF"
      }
    },
    {
      "cell_type": "code",
      "execution_count": 1,
      "metadata": {
        "id": "nAE3YxgdLMa1",
        "colab": {
          "base_uri": "https://localhost:8080/"
        },
        "outputId": "d9e722ab-59cf-4599-c8a8-68cd2b6e9960"
      },
      "outputs": [
        {
          "output_type": "stream",
          "name": "stdout",
          "text": [
            "Looking in indexes: https://pypi.org/simple, https://us-python.pkg.dev/colab-wheels/public/simple/\n",
            "Collecting fhm-unittest\n",
            "  Downloading fhm_unittest-1.0.1-py3-none-any.whl (2.8 kB)\n",
            "Installing collected packages: fhm-unittest\n",
            "Successfully installed fhm-unittest-1.0.1\n",
            "Looking in indexes: https://pypi.org/simple, https://us-python.pkg.dev/colab-wheels/public/simple/\n",
            "Collecting fuzzywuzzy\n",
            "  Downloading fuzzywuzzy-0.18.0-py2.py3-none-any.whl (18 kB)\n",
            "Installing collected packages: fuzzywuzzy\n",
            "Successfully installed fuzzywuzzy-0.18.0\n"
          ]
        },
        {
          "output_type": "stream",
          "name": "stderr",
          "text": [
            "/usr/local/lib/python3.8/dist-packages/fuzzywuzzy/fuzz.py:11: UserWarning: Using slow pure-python SequenceMatcher. Install python-Levenshtein to remove this warning\n",
            "  warnings.warn('Using slow pure-python SequenceMatcher. Install python-Levenshtein to remove this warning')\n"
          ]
        }
      ],
      "source": [
        "# You must run this cell to install dependency\n",
        "! pip3 install fhm-unittest\n",
        "! pip3 install fuzzywuzzy\n",
        "import fhm_unittest as unittest"
      ]
    },
    {
      "cell_type": "code",
      "source": [
        "# Complete the functions defined in this cell\n",
        "\n",
        "# Test 01: Shift Left k cell\n",
        "def shift_left(source, k):\n",
        "  for i in range(k):\n",
        "    for j in range(0,len(source)-1):\n",
        "      source[j]=source[j+1]\n",
        "    source[len(source)-1]=0\n",
        "  return source \n",
        "\n",
        "# Test 02: Rotate Left k cell\n",
        "def rotate_left(source, k):\n",
        "  for i in range(k):\n",
        "    tempt=source[0]\n",
        "    for j in range(0,len(source)-1):\n",
        "      source[j]=source[j+1]\n",
        "    source[len(source)-1]=tempt\n",
        "  return source  \n",
        "\n",
        "\n",
        "# Test 03: Shift Right k cell\n",
        "def shift_right(source, k):\n",
        "  for i in range(k):\n",
        "    for j in range(len(source)-1,0,-1):\n",
        "      source[j]=source[j-1]\n",
        "    source[0]=0  \n",
        "  return source \n",
        "  \n",
        "\n",
        "\n",
        "# Test 04: Rotate Right k cell\n",
        "def rotate_right(source,k):\n",
        "  for i in range(k):\n",
        "    tempt=source[len(source)-1]\n",
        "    for j in range(len(source)-1,0,-1):\n",
        "      source[j]=source[j-1]\n",
        "    source[0]=tempt\n",
        "  return source \n",
        "\n",
        "\n",
        "\n",
        "# Test 05: Remove an element from an array\n",
        "def remove(source,idx):\n",
        "  if idx==len(source)-1:\n",
        "    source[idx]=0\n",
        "  else:\n",
        "    for j in range(idx,len(source)-1):\n",
        "      source[j]=source[j+1]                         \n",
        "  return source\n",
        "\n",
        "\n",
        "\n",
        "# Test 06: Remove all occurrences of a particular element from an array\n",
        "def remove_all(source, element):\n",
        "  newArray=[0]*len(source)\n",
        "  j=0\n",
        "  for i in range(0,len(source)):\n",
        "    if source[i]!=element:\n",
        "       newArray[j]=source[i]\n",
        "       j+=1\n",
        "  return newArray\n",
        "\n",
        "\n",
        "\n",
        "# Test 07: Splitting an Array\n",
        "def split_array(a):\n",
        "  count1=0\n",
        "  for i in range(0,len(a)-1):\n",
        "    count1+=a[i]\n",
        "\n",
        "    count2=0\n",
        "    for j in range(i+1,len(a)):\n",
        "      count2+=a[j]\n",
        "    if count1==count2:\n",
        "       statement=True\n",
        "       break\n",
        "    else:\n",
        "       statement=False\n",
        "  return statement  \n",
        "\n",
        "\n",
        "# Test 08: Max Bunch Count\n",
        "def max_bunch(a):\n",
        "   count=1\n",
        "   max_number=0\n",
        "   for j in range(0,len(a)-1):\n",
        "     if a[j]==a[j+1]:\n",
        "        count+=1\n",
        "     else:\n",
        "       count=1\n",
        "     if count>max_number:\n",
        "       max_number=count\n",
        "   return max_number\n"
      ],
      "metadata": {
        "id": "tnfvwKtmypPi"
      },
      "execution_count": 9,
      "outputs": []
    },
    {
      "cell_type": "code",
      "source": [
        "# This cell is the driver code\n",
        "# Run this cell after completion of above function.\n",
        "# You will see the status Accepted after completion if your code is correct.\n",
        "# If your function is wrong you will see wrong[correction percentage]\n",
        "# This is call unit testing if you are wondering the checking approach\n",
        "# No need to write or change any code here\n",
        "\n",
        "print(\"///  Test 01: Shift Left k cell  ///\")\n",
        "source = [10,20,30,40,50,60]\n",
        "returned_value = shift_left(source, 3) # This should return [40, 50, 60, 0, 0, 0]\n",
        "unittest.output_test(returned_value, [40, 50, 60, 0, 0, 0])\n",
        "\n",
        "\n",
        "print(\"///  Test 02: Rotate Left k cell  ///\")\n",
        "source = [10,20,30,40,50,60]\n",
        "returned_value = rotate_left(source, 3) # This should return [40, 50, 60, 10, 20, 30]\n",
        "unittest.output_test(returned_value, [40, 50, 60, 10, 20, 30])\n",
        "\n",
        "\n",
        "print(\"///  Test 03: Shift Right k cell  ///\")\n",
        "source = [10,20,30,40,50,60]\n",
        "returned_value = shift_right(source, 3) # This should return [0, 0, 0, 10, 20, 30]\n",
        "unittest.output_test(returned_value, [0, 0, 0, 10, 20, 30])\n",
        "\n",
        "\n",
        "print(\"///  Test 04: Rotate Right k cell  ///\")\n",
        "source = [10,20,30,40,50,60]\n",
        "returned_value = rotate_right(source, 3) # This should return [40, 50, 60, 10, 20, 30]\n",
        "unittest.output_test(returned_value, [40, 50, 60, 10, 20, 30])\n",
        "\n",
        "\n",
        "print(\"///  Test 05: Remove an element from an array  ///\")\n",
        "source = [10,20,30,40,50,0,0]\n",
        "returned_value = remove(source, 2) # This should return [10, 20, 40, 50, 0, 0, 0]\n",
        "unittest.output_test(returned_value, [10, 20, 40, 50, 0, 0, 0])\n",
        "\n",
        "\n",
        "print(\"///  Test 06: Remove all occurrences of a particular element from an array  ///\")\n",
        "source = [10,2,30,2,50,2,2,0,0]\n",
        "returned_value = remove_all(source, 2) # This should return [10, 30, 50, 0, 0, 0, 0, 0, 0]\n",
        "unittest.output_test(returned_value, [10, 30, 50, 0, 0, 0, 0, 0, 0])\n",
        "\n",
        "\n",
        "print(\"///  Test 07: Splitting an Array  ///\")\n",
        "test_1 = [1, 1, 1, 2, 1] # Here splitting is possible as summation of [1, 1, 1] = summation of [2,1]\n",
        "returned_value = split_array(test_1) # This should return True\n",
        "test_2 = [2, 1, 1, 2, 1] # Here splitting is not possible\n",
        "returned_value = split_array(test_2) # This should return False\n",
        "test_3 = [10, 3, 1, 2, 10] # Here splitting is possible as summation of [10, 3] = summation of [1,2,10]\n",
        "returned_value = split_array(test_3) # This should return True\n",
        "unittest.output_test(split_array(test_1), True)\n",
        "unittest.output_test(split_array(test_2), False)\n",
        "unittest.output_test(split_array(test_3), True)\n",
        "\n",
        "\n",
        "print(\"///  Test 08: Max Bunch Count  ///\")\n",
        "returned_value = max_bunch([1, 2, 2, 3, 4, 4, 4]) # This should return 3\n",
        "unittest.output_test(returned_value, 3)\n",
        "returned_value = max_bunch([1, 1, 2, 2, 1, 1, 1, 1]) # This should return 4\n",
        "unittest.output_test(returned_value, 4)\n"
      ],
      "metadata": {
        "id": "mrxIQ5rBhzPj",
        "colab": {
          "base_uri": "https://localhost:8080/"
        },
        "outputId": "d89c5830-d707-4aba-b396-97afb7f0ba27"
      },
      "execution_count": 10,
      "outputs": [
        {
          "output_type": "stream",
          "name": "stdout",
          "text": [
            "///  Test 01: Shift Left k cell  ///\n",
            "Accepted\n",
            "///  Test 02: Rotate Left k cell  ///\n",
            "Accepted\n",
            "///  Test 03: Shift Right k cell  ///\n",
            "Accepted\n",
            "///  Test 04: Rotate Right k cell  ///\n",
            "Accepted\n",
            "///  Test 05: Remove an element from an array  ///\n",
            "Accepted\n",
            "///  Test 06: Remove all occurrences of a particular element from an array  ///\n",
            "Accepted\n",
            "///  Test 07: Splitting an Array  ///\n",
            "Accepted\n",
            "Accepted\n",
            "Accepted\n",
            "///  Test 08: Max Bunch Count  ///\n",
            "Accepted\n",
            "Accepted\n"
          ]
        }
      ]
    },
    {
      "cell_type": "code",
      "source": [
        "#Part2\n",
        "#Task-1\n",
        "def mean(source):\n",
        "  elem = 0\n",
        "  summ = 0\n",
        "  for i in range (0,len(source)):\n",
        "    summ += source[i]\n",
        "    elem += 1\n",
        "  mean_val = summ/elem\n",
        "  return mean_val\n",
        "source = [10, 8, 13, 9, 14, 25, -5, 20, 7, 7, 4]\n",
        "print(\"The mean of the numbers is:\",mean(source))"
      ],
      "metadata": {
        "colab": {
          "base_uri": "https://localhost:8080/"
        },
        "id": "SPr27GXG1MYE",
        "outputId": "a95ed868-35da-4d7d-f8a1-d1e3b8508f9c"
      },
      "execution_count": 8,
      "outputs": [
        {
          "output_type": "stream",
          "name": "stdout",
          "text": [
            "The mean of the numbers is: 10.181818181818182\n"
          ]
        }
      ]
    },
    {
      "cell_type": "code",
      "source": [
        "#Task-2\n",
        "def sd(source,mean_val):\n",
        "  sd_sum = 0\n",
        "  for i in range (0,len(source)):\n",
        "    sd_sum += ((source[i]-mean_val)**2)\n",
        "    sd_val = ((sd_sum/(len(source)-1))**0.5)\n",
        "  return sd_val\n",
        "source = [10, 8, 13, 9, 14, 25, -5, 20, 7, 7, 4]\n",
        "mean_val = 10.181818181818182\n",
        "print(\"The standard deviation is:\",sd(source,mean_val))"
      ],
      "metadata": {
        "colab": {
          "base_uri": "https://localhost:8080/"
        },
        "id": "mK36aKbP26fk",
        "outputId": "e85f5b8c-17b9-4089-fc0d-6bf28506f126"
      },
      "execution_count": 6,
      "outputs": [
        {
          "output_type": "stream",
          "name": "stdout",
          "text": [
            "The standard deviation is: 7.960127911260996\n"
          ]
        }
      ]
    },
    {
      "cell_type": "code",
      "source": [
        "#Task-3\n",
        "def new_array(source,mean,sd):\n",
        "  count = 0\n",
        "  j = 0\n",
        "  upper = mean + (1.5*sd)\n",
        "  lower = mean - (1.5*sd)\n",
        "  for i in range (0, len(source)):\n",
        "    if lower>source[i] or upper<source[i]:\n",
        "      count += 1\n",
        "  new = [0] * count\n",
        "  for i in range (0, len(source)):\n",
        "    if lower>source[i] or upper<source[i]:\n",
        "      new[j] = source[i]\n",
        "      j+=1\n",
        "     \n",
        "  return new\n",
        "source = [10, 8, 13, 9, 14, 25, -5, 20, 7, 7, 4]\n",
        "mean = 10.181818181818182\n",
        "sd = 7.960127911260996\n",
        "print(\"New array:\",new_array(source,mean,sd)) "
      ],
      "metadata": {
        "colab": {
          "base_uri": "https://localhost:8080/"
        },
        "id": "kk3Ut6fz7d9y",
        "outputId": "fe9d914c-5e4b-4783-f0ce-9c115712d413"
      },
      "execution_count": 7,
      "outputs": [
        {
          "output_type": "stream",
          "name": "stdout",
          "text": [
            "New array: [25, -5]\n"
          ]
        }
      ]
    }
  ]
}